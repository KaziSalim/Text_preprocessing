{
 "cells": [
  {
   "cell_type": "code",
   "execution_count": 1,
   "id": "8dc1c4a7",
   "metadata": {},
   "outputs": [],
   "source": [
    "import numpy as np\n",
    "import pandas as pd\n",
    "import contractions"
   ]
  },
  {
   "cell_type": "code",
   "execution_count": 2,
   "id": "b3a60240",
   "metadata": {},
   "outputs": [],
   "source": [
    "text = '''It was a beutiful day in the neighbrhood.\n",
    "The sun was shinng bright, and the birds were chirping loudly.\n",
    "I decidid to take a strol down the park, bt suddnly, I realisd that I'd forgotten my sunglases at home.\n",
    "I quickly retracd my steps to get them, but then I noticd that I've also left my pone on the kitchen counter.\n",
    "It's amzing how forgetfl I can be sometims! Anyways, I grabbed my sunglases and pone, and then contnued my strol in the lovely weather.'''\n"
   ]
  },
  {
   "cell_type": "code",
   "execution_count": 3,
   "id": "3d635adf",
   "metadata": {},
   "outputs": [
    {
     "name": "stdout",
     "output_type": "stream",
     "text": [
      "<module 'contractions' from 'C:\\\\ProgramData\\\\anaconda3\\\\Lib\\\\site-packages\\\\contractions\\\\__init__.py'>\n"
     ]
    }
   ],
   "source": [
    "print(contractions)"
   ]
  },
  {
   "cell_type": "code",
   "execution_count": 3,
   "id": "39cafcf2",
   "metadata": {},
   "outputs": [],
   "source": [
    "text = contractions.fix(text)"
   ]
  },
  {
   "cell_type": "code",
   "execution_count": 4,
   "id": "c11b383c",
   "metadata": {},
   "outputs": [
    {
     "data": {
      "text/plain": [
       "'It was a beutiful day in the neighbrhood.\\nThe sun was shinng bright, and the birds were chirping loudly.\\nI decidid to take a strol down the park, bt suddnly, I realisd that I would forgotten my sunglases at home.\\nI quickly retracd my steps to get them, but then I noticd that I have also left my pone on the kitchen counter.\\nit is amzing how forgetfl I can be sometims! Anyways, I grabbed my sunglases and pone, and then contnued my strol in the lovely weather.'"
      ]
     },
     "execution_count": 4,
     "metadata": {},
     "output_type": "execute_result"
    }
   ],
   "source": [
    "text"
   ]
  },
  {
   "cell_type": "code",
   "execution_count": 5,
   "id": "0fcb235d",
   "metadata": {},
   "outputs": [],
   "source": [
    "from autocorrect import Speller"
   ]
  },
  {
   "cell_type": "code",
   "execution_count": 6,
   "id": "7a920e0d",
   "metadata": {},
   "outputs": [],
   "source": [
    "def correct_spelling(word, spell_checker):\n",
    "    return spell_checker(word)"
   ]
  },
  {
   "cell_type": "code",
   "execution_count": 7,
   "id": "8cb17d69",
   "metadata": {},
   "outputs": [],
   "source": [
    "from nltk.corpus import stopwords\n",
    "from nltk.tokenize import word_tokenize\n",
    "from string import punctuation\n",
    "from nltk.stem import PorterStemmer, WordNetLemmatizer"
   ]
  },
  {
   "cell_type": "code",
   "execution_count": 8,
   "id": "5d1448f6",
   "metadata": {},
   "outputs": [],
   "source": [
    "stopwords = set(stopwords.words('english'))"
   ]
  },
  {
   "cell_type": "code",
   "execution_count": 9,
   "id": "f953f0c8",
   "metadata": {},
   "outputs": [],
   "source": [
    "def text_preprocessing(text):\n",
    "    # Convert the text to lower case\n",
    "    text = text.lower()\n",
    "    \n",
    "    # tokenize the text\n",
    "    words = word_tokenize(text)\n",
    "    \n",
    "    # remove stopwords\n",
    "    filtered_words = [word for word in words if word.lower() not in stopwords]\n",
    "    \n",
    "    # remove punctuations\n",
    "    filtered_words = [''.join(char for char in word if char not in punctuation)for word in filtered_words]\n",
    "    \n",
    "    # Initialize the spell checker\n",
    "    spell = Speller(lang = 'en')\n",
    "    corrected_words = [correct_spelling(word, spell) for word in filtered_words]\n",
    "    \n",
    "    # Apply stemming\n",
    "   # stemmer = PorterStemmer()\n",
    "   # stemmed_words = [stemmer.stem(word) for word in corrected_words]\n",
    "    \n",
    "    # Apply Lemmatizer\n",
    "    lemmatizer = WordNetLemmatizer()\n",
    "    lemmatize_words = [lemmatizer.lemmatize(word) for word in corrected_words]\n",
    "    \n",
    "    #join into string\n",
    "    filtered_text = ' '.join(lemmatize_words)\n",
    "    \n",
    "    return filtered_text"
   ]
  },
  {
   "cell_type": "code",
   "execution_count": 10,
   "id": "780677c8",
   "metadata": {},
   "outputs": [],
   "source": [
    "text = text_preprocessing(text)   "
   ]
  },
  {
   "cell_type": "code",
   "execution_count": 11,
   "id": "39985a28",
   "metadata": {},
   "outputs": [
    {
     "data": {
      "text/plain": [
       "'beautiful day neighborhood  sun shining bright  bird shipping loudly  decided take stool park  bt suddenly  realised would forgotten sunglass home  quickly retract step get  notice also left one kitchen counter  amazing forget sometimes  anyways  grabbed sunglass one  continued stool lovely weather '"
      ]
     },
     "execution_count": 11,
     "metadata": {},
     "output_type": "execute_result"
    }
   ],
   "source": [
    "text"
   ]
  }
 ],
 "metadata": {
  "kernelspec": {
   "display_name": "Python 3 (ipykernel)",
   "language": "python",
   "name": "python3"
  },
  "language_info": {
   "codemirror_mode": {
    "name": "ipython",
    "version": 3
   },
   "file_extension": ".py",
   "mimetype": "text/x-python",
   "name": "python",
   "nbconvert_exporter": "python",
   "pygments_lexer": "ipython3",
   "version": "3.11.4"
  }
 },
 "nbformat": 4,
 "nbformat_minor": 5
}
